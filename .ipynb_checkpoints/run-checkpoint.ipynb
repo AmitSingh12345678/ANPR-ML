{
 "cells": [
  {
   "cell_type": "code",
   "execution_count": 8,
   "id": "1eaddb36",
   "metadata": {},
   "outputs": [],
   "source": [
    "import cv2\n",
    "import numpy as np\n",
    "%matplotlib notebook\n",
    "from matplotlib import pyplot as plt\n",
    "from license_plate_detection import load_model,getNumberPlateRegion\n",
    "from license_plate_recognition import load_char_recog_model, segment_characters, show_results\n",
    "from utils.deskew_plate import deskew\n",
    "YOLO_MODEL_PATH=r\"C:\\Users\\Amit Singh\\Documents\\VS Code\\Python\\ANPR ML\\yolov7\\best.pt\"\n",
    "CHAR_RECOGNITION_YOLO_MODEL_PATH=r\"C:\\Users\\Amit Singh\\Documents\\VS Code\\Python\\ANPR ML\\yolov7\\checkpoints\\checkpoints\\my_checkpoint\""
   ]
  },
  {
   "cell_type": "code",
   "execution_count": 2,
   "id": "301c6677",
   "metadata": {},
   "outputs": [
    {
     "name": "stdout",
     "output_type": "stream",
     "text": [
      "C:\\Users\\Amit Singh\\Documents\\VS Code\\ANPR-ML\n"
     ]
    }
   ],
   "source": [
    "class Opt:\n",
    "    weights=YOLO_MODEL_PATH\n",
    "    img_size=640\n",
    "    conf_thres=0.25\n",
    "    iou_thres=0.45\n",
    "    device=\"\"\n",
    "    view_img=\"\"\n",
    "    save_txt=\"\"\n",
    "    save_conf=\"\"\n",
    "    nosave=\"\"\n",
    "    classes=0\n",
    "    agnostic_nms=\"\"\n",
    "    augment=\"\"\n",
    "    update=\"\"\n",
    "    name=\"exp\"\n",
    "    project=\"runs/detect\"\n",
    "    exist_ok=\"\"\n",
    "    no_trace=\"\"\n",
    "opt=Opt()\n",
    "\n",
    "import os\n",
    "print(os.getcwd())"
   ]
  },
  {
   "cell_type": "code",
   "execution_count": 3,
   "id": "374013c2",
   "metadata": {},
   "outputs": [
    {
     "name": "stderr",
     "output_type": "stream",
     "text": [
      "YOLOR  2023-4-10 torch 2.0.0+cpu CPU\n",
      "\n"
     ]
    },
    {
     "name": "stdout",
     "output_type": "stream",
     "text": [
      "Fusing layers... \n",
      "RepConv.fuse_repvgg_block\n",
      "RepConv.fuse_repvgg_block\n",
      "RepConv.fuse_repvgg_block\n",
      "IDetect.fuse\n"
     ]
    },
    {
     "name": "stderr",
     "output_type": "stream",
     "text": [
      "C:\\Users\\Amit Singh\\AppData\\Local\\Programs\\Python\\Python39\\lib\\site-packages\\torch\\functional.py:504: UserWarning: torch.meshgrid: in an upcoming release, it will be required to pass the indexing argument. (Triggered internally at C:\\actions-runner\\_work\\pytorch\\pytorch\\builder\\windows\\pytorch\\aten\\src\\ATen\\native\\TensorShape.cpp:3484.)\n",
      "  return _VF.meshgrid(tensors, **kwargs)  # type: ignore[attr-defined]\n",
      "Model Summary: 314 layers, 36481772 parameters, 6194944 gradients, 103.2 GFLOPS\n"
     ]
    },
    {
     "name": "stdout",
     "output_type": "stream",
     "text": [
      " Convert model to Traced-model... \n",
      " traced_script_module saved! \n",
      " model is traced! \n",
      "\n"
     ]
    }
   ],
   "source": [
    "char_model=load_char_recog_model()\n",
    "np_model=load_model(opt)"
   ]
  },
  {
   "cell_type": "code",
   "execution_count": 10,
   "id": "5642b9ec",
   "metadata": {},
   "outputs": [],
   "source": [
    "img_path=r\"C:\\Users\\Amit Singh\\Documents\\VS Code\\Python\\ANPR ML\\yolov7\\4.jpg\"\n",
    "img=cv2.imread(img_path)\n",
    "plt.imshow(img)"
   ]
  },
  {
   "cell_type": "code",
   "execution_count": 12,
   "id": "62e81bc8",
   "metadata": {},
   "outputs": [],
   "source": [
    "np_region=getNumberPlateRegion(img_path,opt,np_model)\n",
    "plt.imshow(np_region)"
   ]
  },
  {
   "cell_type": "code",
   "execution_count": 13,
   "id": "052c2b86",
   "metadata": {},
   "outputs": [],
   "source": [
    "if np_region is None:\n",
    "        print(\"No number plate found\")\n",
    "else:\n",
    "    np_region = cv2.resize(np_region,\n",
    "                           None,\n",
    "                           fx=2,\n",
    "                           fy=2,\n",
    "                           interpolation=cv2.INTER_CUBIC)\n",
    "    np_region = cv2.fastNlMeansDenoisingColored(np_region, None, 10, 10, 7,\n",
    "                                                15)\n",
    "\n",
    "    np_region = deskew(np_region)\n",
    "    char = segment_characters(np_region)\n",
    "    num_plate = show_results(char,loaded_model=char_model)\n",
    "\n",
    "    # For showing results\n",
    "    print(\"Number plate detected: \" + num_plate)\n",
    "    plt.figure(figsize=(10, 6))\n",
    "    for i, ch in enumerate(char):\n",
    "        img = cv2.resize(ch, (28, 28), interpolation=cv2.INTER_AREA)\n",
    "        plt.subplot(3, 4, i + 1)\n",
    "        plt.imshow(img, cmap='gray')\n",
    "        plt.title(f'predicted: {num_plate[i]}')\n",
    "        plt.axis('off')"
   ]
  },
  {
   "cell_type": "code",
   "execution_count": null,
   "id": "7b9eb605",
   "metadata": {},
   "outputs": [],
   "source": []
  }
 ],
 "metadata": {
  "kernelspec": {
   "display_name": "Python 3 (ipykernel)",
   "language": "python",
   "name": "python3"
  },
  "language_info": {
   "codemirror_mode": {
    "name": "ipython",
    "version": 3
   },
   "file_extension": ".py",
   "mimetype": "text/x-python",
   "name": "python",
   "nbconvert_exporter": "python",
   "pygments_lexer": "ipython3",
   "version": "3.9.0"
  }
 },
 "nbformat": 4,
 "nbformat_minor": 5
}
